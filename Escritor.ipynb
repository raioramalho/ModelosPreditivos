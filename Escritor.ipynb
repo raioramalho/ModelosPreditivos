{
 "cells": [
  {
   "cell_type": "code",
   "execution_count": 1,
   "metadata": {},
   "outputs": [],
   "source": [
    "import os\n",
    "from PyPDF2 import PdfReader"
   ]
  },
  {
   "cell_type": "code",
   "execution_count": 4,
   "metadata": {},
   "outputs": [
    {
     "name": "stdout",
     "output_type": "stream",
     "text": [
      "['alan.pdf', 'cursobasicodevinho.pdf']\n"
     ]
    }
   ],
   "source": [
    "diretorio = './pdf/'\n",
    "arquivos = os.listdir(diretorio)\n",
    "print(arquivos)"
   ]
  },
  {
   "cell_type": "code",
   "execution_count": 5,
   "metadata": {},
   "outputs": [
    {
     "name": "stdout",
     "output_type": "stream",
     "text": [
      "Convertendo arquivo: alan.pdf\n",
      "Quantidade de páginas: 2\n",
      "Convertendo arquivo: cursobasicodevinho.pdf\n",
      "Quantidade de páginas: 21\n"
     ]
    }
   ],
   "source": [
    "for arquivo in arquivos:\n",
    "    with open(arquivo+'.txt', 'w', encoding='utf-8') as gerado:\n",
    "        print('Convertendo arquivo: '+arquivo)\n",
    "        reader = PdfReader(diretorio+'/'+arquivo)\n",
    "        pages = reader.pages\n",
    "        print('Quantidade de páginas: '+str(len(pages)))\n",
    "        for page in pages:\n",
    "            texto_da_pagina = page.extract_text()\n",
    "            gerado.write(texto_da_pagina)\n"
   ]
  },
  {
   "cell_type": "code",
   "execution_count": null,
   "metadata": {},
   "outputs": [],
   "source": []
  }
 ],
 "metadata": {
  "kernelspec": {
   "display_name": "Python 3",
   "language": "python",
   "name": "python3"
  },
  "language_info": {
   "codemirror_mode": {
    "name": "ipython",
    "version": 3
   },
   "file_extension": ".py",
   "mimetype": "text/x-python",
   "name": "python",
   "nbconvert_exporter": "python",
   "pygments_lexer": "ipython3",
   "version": "3.11.7"
  }
 },
 "nbformat": 4,
 "nbformat_minor": 2
}
