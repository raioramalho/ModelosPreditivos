{
 "cells": [
  {
   "cell_type": "code",
   "execution_count": 67,
   "metadata": {},
   "outputs": [],
   "source": [
    "# !pip install pdf2image\n",
    "#!pip install PyPDF2"
   ]
  },
  {
   "cell_type": "code",
   "execution_count": 68,
   "metadata": {},
   "outputs": [],
   "source": [
    "import os\n",
    "from PyPDF2 import PdfReader\n",
    "from pdf2image import convert_from_path"
   ]
  },
  {
   "cell_type": "code",
   "execution_count": 69,
   "metadata": {},
   "outputs": [
    {
     "name": "stdout",
     "output_type": "stream",
     "text": [
      "['alan.pdf', 'certificado.pdf', 'cursobasicodevinho.pdf']\n"
     ]
    }
   ],
   "source": [
    "diretorio = './pdf/'\n",
    "arquivos = os.listdir(diretorio)\n",
    "print(arquivos)"
   ]
  },
  {
   "cell_type": "code",
   "execution_count": 70,
   "metadata": {},
   "outputs": [],
   "source": [
    "def modoSimples(arquivos):\n",
    "    for arquivo in arquivos:\n",
    "        with open('./textos/'+arquivo+'.txt', 'w', encoding='utf-8') as gerado:\n",
    "            print('Convertendo arquivo: '+arquivo)\n",
    "            reader = PdfReader(diretorio+'/'+arquivo)\n",
    "            pages = reader.pages\n",
    "            print('Quantidade de páginas: '+str(len(pages)))\n",
    "            for page in pages:\n",
    "                texto_da_pagina = page.extract_text()\n",
    "                gerado.write(texto_da_pagina)\n",
    "\n",
    "\n",
    "# modoSimples(arquivos)"
   ]
  },
  {
   "cell_type": "code",
   "execution_count": 80,
   "metadata": {},
   "outputs": [
    {
     "name": "stdout",
     "output_type": "stream",
     "text": [
      "Convertendo arquivo: ./pdf/certificado.pdf\n"
     ]
    }
   ],
   "source": [
    "arquivo = diretorio+arquivos[1]\n",
    "print('Convertendo arquivo: '+arquivo)\n"
   ]
  }
 ],
 "metadata": {
  "kernelspec": {
   "display_name": "Python 3",
   "language": "python",
   "name": "python3"
  },
  "language_info": {
   "codemirror_mode": {
    "name": "ipython",
    "version": 3
   },
   "file_extension": ".py",
   "mimetype": "text/x-python",
   "name": "python",
   "nbconvert_exporter": "python",
   "pygments_lexer": "ipython3",
   "version": "3.11.7"
  }
 },
 "nbformat": 4,
 "nbformat_minor": 2
}
