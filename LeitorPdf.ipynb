{
 "cells": [
  {
   "cell_type": "code",
   "execution_count": 93,
   "metadata": {},
   "outputs": [],
   "source": [
    "import pandas as pd\n",
    "import requests\n",
    "import os\n",
    "from dotenv import load_dotenv"
   ]
  },
  {
   "cell_type": "code",
   "execution_count": 94,
   "metadata": {},
   "outputs": [
    {
     "data": {
      "text/plain": [
       "True"
      ]
     },
     "execution_count": 94,
     "metadata": {},
     "output_type": "execute_result"
    }
   ],
   "source": [
    "env = \".env\"\n",
    "load_dotenv(env)"
   ]
  },
  {
   "cell_type": "code",
   "execution_count": 95,
   "metadata": {},
   "outputs": [],
   "source": [
    "API_KEY = os.getenv('CHATPDF_KEY')\n",
    "API_URL_UPLOAD = \"https://api.chatpdf.com/v1/sources/add-file\"\n",
    "API_URL_CHAT = \"https://api.chatpdf.com/v1/chats/message\""
   ]
  },
  {
   "cell_type": "code",
   "execution_count": 96,
   "metadata": {},
   "outputs": [],
   "source": [
    "def enviarPDF(arquivo):\n",
    "    files = [\n",
    "        ('file', ('file', open(arquivo, 'rb'), 'application/octet-stream'))\n",
    "    ]\n",
    "    headers = {\n",
    "        'x-api-key': API_KEY\n",
    "    }\n",
    "\n",
    "    response = requests.post(\n",
    "        API_URL_UPLOAD, headers=headers, files=files)\n",
    "\n",
    "    if response.status_code == 200:\n",
    "        SRC_ID = response.json()['sourceId']\n",
    "        # print('ARQUIVO ENVIADO COM SUCESSO!')\n",
    "        # print('SOURCE_ID:', SRC_ID)\n",
    "        return SRC_ID\n",
    "    else:\n",
    "        print('Status:', response.status_code)\n",
    "        print('Error:', response.text)"
   ]
  },
  {
   "cell_type": "code",
   "execution_count": 97,
   "metadata": {},
   "outputs": [],
   "source": [
    "SRC_ID = enviarPDF('./pdf/alan.pdf')"
   ]
  },
  {
   "cell_type": "code",
   "execution_count": 98,
   "metadata": {},
   "outputs": [],
   "source": [
    "\n",
    "def perguntar(pergunta, src_id):\n",
    "    headers = {\n",
    "        'x-api-key': API_KEY,\n",
    "        \"Content-Type\": \"application/json\",\n",
    "    }\n",
    "\n",
    "    data = {\n",
    "        'sourceId': src_id,\n",
    "        'messages': [\n",
    "            {\n",
    "                'role': \"user\",\n",
    "                'content': pergunta,\n",
    "            }\n",
    "        ]\n",
    "    }\n",
    "\n",
    "    response = requests.post(\n",
    "        API_URL_CHAT, headers=headers, json=data)\n",
    "\n",
    "    if response.status_code == 200:\n",
    "        RESPOSTA = response.json()['content']\n",
    "        # print('Result:', RESPOSTA)\n",
    "        return RESPOSTA\n",
    "    else:\n",
    "        print('Status:', response.status_code)\n",
    "        print('Error:', response.text)\n"
   ]
  },
  {
   "cell_type": "code",
   "execution_count": 99,
   "metadata": {},
   "outputs": [
    {
     "data": {
      "text/plain": [
       "'O nome completo do Alan é Alan Da Silva Ramalho.'"
      ]
     },
     "execution_count": 99,
     "metadata": {},
     "output_type": "execute_result"
    }
   ],
   "source": [
    "perguntar('Qual é o nome completo do Alan?', SRC_ID)"
   ]
  },
  {
   "cell_type": "code",
   "execution_count": 100,
   "metadata": {},
   "outputs": [
    {
     "name": "stdout",
     "output_type": "stream",
     "text": [
      "['alan.pdf']\n",
      "1\n"
     ]
    }
   ],
   "source": [
    "arquivos = os.listdir('./pdf/')\n",
    "print(arquivos)\n",
    "qtd_arquivos = len(os.listdir('./pdf/'))\n",
    "print(qtd_arquivos)"
   ]
  },
  {
   "cell_type": "code",
   "execution_count": 128,
   "metadata": {},
   "outputs": [
    {
     "name": "stdout",
     "output_type": "stream",
     "text": [
      "./pdf/alan.pdf\n"
     ]
    }
   ],
   "source": [
    "dados = pd.DataFrame()\n",
    "\n",
    "for arquivo in arquivos:\n",
    "    selecionado = './pdf/' + arquivo\n",
    "    print(selecionado)\n",
    "    src_id_enviado = enviarPDF(selecionado)\n",
    "    resposta = perguntar('Qual é o nome completo dessa pessoa', src_id_enviado)\n",
    "    nova_linha = pd.DataFrame({'Arquivo': [arquivo], 'SourceId': [src_id_enviado], 'Resposta': [resposta]})\n",
    "    dados = pd.concat([dados, nova_linha], ignore_index=True)\n"
   ]
  },
  {
   "cell_type": "code",
   "execution_count": 130,
   "metadata": {},
   "outputs": [
    {
     "data": {
      "text/html": [
       "<div>\n",
       "<style scoped>\n",
       "    .dataframe tbody tr th:only-of-type {\n",
       "        vertical-align: middle;\n",
       "    }\n",
       "\n",
       "    .dataframe tbody tr th {\n",
       "        vertical-align: top;\n",
       "    }\n",
       "\n",
       "    .dataframe thead th {\n",
       "        text-align: right;\n",
       "    }\n",
       "</style>\n",
       "<table border=\"1\" class=\"dataframe\">\n",
       "  <thead>\n",
       "    <tr style=\"text-align: right;\">\n",
       "      <th></th>\n",
       "      <th>Arquivo</th>\n",
       "      <th>SourceId</th>\n",
       "      <th>Resposta</th>\n",
       "    </tr>\n",
       "  </thead>\n",
       "  <tbody>\n",
       "    <tr>\n",
       "      <th>0</th>\n",
       "      <td>alan.pdf</td>\n",
       "      <td>src_OfoSFg5ogO9UQXR92lYr2</td>\n",
       "      <td>O nome completo dessa pessoa é Alan Da Silva R...</td>\n",
       "    </tr>\n",
       "  </tbody>\n",
       "</table>\n",
       "</div>"
      ],
      "text/plain": [
       "    Arquivo                   SourceId  \\\n",
       "0  alan.pdf  src_OfoSFg5ogO9UQXR92lYr2   \n",
       "\n",
       "                                            Resposta  \n",
       "0  O nome completo dessa pessoa é Alan Da Silva R...  "
      ]
     },
     "execution_count": 130,
     "metadata": {},
     "output_type": "execute_result"
    }
   ],
   "source": [
    "dados"
   ]
  }
 ],
 "metadata": {
  "kernelspec": {
   "display_name": "Python 3",
   "language": "python",
   "name": "python3"
  },
  "language_info": {
   "codemirror_mode": {
    "name": "ipython",
    "version": 3
   },
   "file_extension": ".py",
   "mimetype": "text/x-python",
   "name": "python",
   "nbconvert_exporter": "python",
   "pygments_lexer": "ipython3",
   "version": "3.11.4"
  }
 },
 "nbformat": 4,
 "nbformat_minor": 2
}
