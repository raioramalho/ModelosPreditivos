{
 "cells": [
  {
   "cell_type": "code",
   "execution_count": 20,
   "metadata": {},
   "outputs": [],
   "source": [
    "import pandas as pd\n",
    "import requests\n",
    "import os\n",
    "from dotenv import load_dotenv"
   ]
  },
  {
   "cell_type": "code",
   "execution_count": 21,
   "metadata": {},
   "outputs": [
    {
     "data": {
      "text/plain": [
       "True"
      ]
     },
     "execution_count": 21,
     "metadata": {},
     "output_type": "execute_result"
    }
   ],
   "source": [
    "env = \".env\"\n",
    "load_dotenv(env)"
   ]
  },
  {
   "cell_type": "code",
   "execution_count": 22,
   "metadata": {},
   "outputs": [],
   "source": [
    "API_KEY = os.getenv('CHATPDF_KEY')\n",
    "API_URL_UPLOAD = \"https://api.chatpdf.com/v1/sources/add-file\"\n",
    "API_URL_CHAT = \"https://api.chatpdf.com/v1/chats/message\""
   ]
  },
  {
   "cell_type": "code",
   "execution_count": 23,
   "metadata": {},
   "outputs": [],
   "source": [
    "def enviarPDF(arquivo):\n",
    "    files = [\n",
    "        ('file', ('file', open(arquivo, 'rb'), 'application/octet-stream'))\n",
    "    ]\n",
    "    headers = {\n",
    "        'x-api-key': API_KEY\n",
    "    }\n",
    "\n",
    "    response = requests.post(\n",
    "        API_URL_UPLOAD, headers=headers, files=files)\n",
    "\n",
    "    if response.status_code == 200:\n",
    "        SRC_ID = response.json()['sourceId']\n",
    "        # print('ARQUIVO ENVIADO COM SUCESSO!')\n",
    "        # print('SOURCE_ID:', SRC_ID)\n",
    "        return SRC_ID\n",
    "    else:\n",
    "        print('Status:', response.status_code)\n",
    "        print('Error:', response.text)"
   ]
  },
  {
   "cell_type": "code",
   "execution_count": 24,
   "metadata": {},
   "outputs": [],
   "source": [
    "def perguntar(pergunta1, src_id):\n",
    "    headers = {\n",
    "        'x-api-key': API_KEY,\n",
    "        \"Content-Type\": \"application/json\",\n",
    "    }\n",
    "\n",
    "    data = {\n",
    "        'sourceId': src_id,\n",
    "        'messages': [\n",
    "            {\n",
    "                'role': \"user\",\n",
    "                'content': pergunta1,\n",
    "            }\n",
    "        ]\n",
    "    }\n",
    "\n",
    "    response = requests.post(\n",
    "        API_URL_CHAT, headers=headers, json=data)\n",
    "\n",
    "    if response.status_code == 200:\n",
    "        RESPOSTA = response.json()['content']\n",
    "        # print('Result:', RESPOSTA)\n",
    "        return RESPOSTA\n",
    "    else:\n",
    "        print('Status:', response.status_code)\n",
    "        print('Error:', response.text)\n"
   ]
  },
  {
   "cell_type": "code",
   "execution_count": 27,
   "metadata": {},
   "outputs": [
    {
     "name": "stdout",
     "output_type": "stream",
     "text": [
      "Não foi mencionada uma página 13 no conteúdo fornecido. Como não encontrei a tabela mencionada, não posso extrair informações específicas dela. Se tiver alguma outra pergunta ou precisar de ajuda com algo mais, por favor, me avise.\n"
     ]
    },
    {
     "data": {
      "text/html": [
       "<div>\n",
       "<style scoped>\n",
       "    .dataframe tbody tr th:only-of-type {\n",
       "        vertical-align: middle;\n",
       "    }\n",
       "\n",
       "    .dataframe tbody tr th {\n",
       "        vertical-align: top;\n",
       "    }\n",
       "\n",
       "    .dataframe thead th {\n",
       "        text-align: right;\n",
       "    }\n",
       "</style>\n",
       "<table border=\"1\" class=\"dataframe\">\n",
       "  <thead>\n",
       "    <tr style=\"text-align: right;\">\n",
       "      <th></th>\n",
       "      <th>Unnamed: 0</th>\n",
       "      <th>Unnamed: 1</th>\n",
       "      <th>EXAME VISUAL (COR)</th>\n",
       "    </tr>\n",
       "  </thead>\n",
       "  <tbody>\n",
       "    <tr>\n",
       "      <th>0</th>\n",
       "      <td>vinho</td>\n",
       "      <td>variação</td>\n",
       "      <td>descrição</td>\n",
       "    </tr>\n",
       "    <tr>\n",
       "      <th>1</th>\n",
       "      <td>NaN</td>\n",
       "      <td>Incolor</td>\n",
       "      <td>Com pouca ou nenhuma cor, similar à água.</td>\n",
       "    </tr>\n",
       "    <tr>\n",
       "      <th>2</th>\n",
       "      <td>NaN</td>\n",
       "      <td>Verdoso</td>\n",
       "      <td>Amarelo-claro com reflexos verdes.</td>\n",
       "    </tr>\n",
       "    <tr>\n",
       "      <th>3</th>\n",
       "      <td>NaN</td>\n",
       "      <td>Palha</td>\n",
       "      <td>Amarelo-claro com reflexos palha.</td>\n",
       "    </tr>\n",
       "    <tr>\n",
       "      <th>4</th>\n",
       "      <td>Branco</td>\n",
       "      <td>Amarelo</td>\n",
       "      <td>Amarelo definido, sem reflexos.</td>\n",
       "    </tr>\n",
       "  </tbody>\n",
       "</table>\n",
       "</div>"
      ],
      "text/plain": [
       "  Unnamed: 0 Unnamed: 1                         EXAME VISUAL (COR)\n",
       "0      vinho   variação                                  descrição\n",
       "1        NaN    Incolor  Com pouca ou nenhuma cor, similar à água.\n",
       "2        NaN    Verdoso         Amarelo-claro com reflexos verdes.\n",
       "3        NaN      Palha          Amarelo-claro com reflexos palha.\n",
       "4     Branco    Amarelo            Amarelo definido, sem reflexos."
      ]
     },
     "execution_count": 27,
     "metadata": {},
     "output_type": "execute_result"
    }
   ],
   "source": [
    "upload_id = enviarPDF('./pdf/cursobasicodevinho.pdf')\n",
    "resposta = perguntar('conte as paginas e leia a pagina de numero 13, eu tenho uma tabela extraia essa tabela e me responda no formato de csv sem texto extra',  upload_id)\n",
    "print(resposta)\n",
    "\n",
    "import pandas as pd\n",
    "import tabula\n",
    "documento = tabula.convert_into('./pdf/cursobasicodevinho.pdf', 'out.csv', output_format='csv', pages=\"13\")\n",
    "dataframe = pd.read_csv('out.csv')\n",
    "dataframe.head()\n"
   ]
  },
  {
   "cell_type": "code",
   "execution_count": 41,
   "metadata": {},
   "outputs": [],
   "source": [
    "from pdf2docx import Converter\n",
    "from docx import Document\n",
    "\n",
    "# arquivo = Converter('./pdf/cursobasicodevinho.pdf')\n",
    "# arquivo.convert('./textos/document.docx')\n",
    "# arquivo.close()\n",
    "\n",
    "def extrair_tabelas(nome_arquivo):\n",
    "    doc = Document(nome_arquivo)\n",
    "    tabelas = []\n",
    "    for tabela in doc.tables:\n",
    "        dados_tabela = []\n",
    "        for linha in tabela.rows:\n",
    "            dados_linha = []\n",
    "            for célula in linha.cells:\n",
    "                dados_linha.append(célula.text)\n",
    "            dados_tabela.append(dados_linha)\n",
    "        tabelas.append(dados_tabela)\n",
    "    return tabelas\n",
    "\n",
    "\n",
    "tabelas = extrair_tabelas('./textos/document.docx')\n",
    "\n",
    "# Exibindo os dados extraídos\n",
    "for num_tabela, tabela in enumerate(tabelas, start=1):\n",
    "    print(f\"Tabela {num_tabela}:\")\n",
    "    for linha in tabela:\n",
    "        print(\"\\t\".join(linha))\n",
    "    print()\n"
   ]
  },
  {
   "cell_type": "code",
   "execution_count": null,
   "metadata": {},
   "outputs": [],
   "source": []
  }
 ],
 "metadata": {
  "kernelspec": {
   "display_name": "Python 3",
   "language": "python",
   "name": "python3"
  },
  "language_info": {
   "codemirror_mode": {
    "name": "ipython",
    "version": 3
   },
   "file_extension": ".py",
   "mimetype": "text/x-python",
   "name": "python",
   "nbconvert_exporter": "python",
   "pygments_lexer": "ipython3",
   "version": "3.11.7"
  }
 },
 "nbformat": 4,
 "nbformat_minor": 2
}
