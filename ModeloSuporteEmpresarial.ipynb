{
 "cells": [
  {
   "cell_type": "code",
   "execution_count": 2,
   "metadata": {},
   "outputs": [],
   "source": [
    "#leitor de pdf suporte de vinho."
   ]
  },
  {
   "cell_type": "code",
   "execution_count": 3,
   "metadata": {},
   "outputs": [
    {
     "name": "stderr",
     "output_type": "stream",
     "text": [
      "/var/folders/_0/jby73m917sl0rmqvz60jmxzh0000gn/T/ipykernel_8993/1408106030.py:1: DeprecationWarning: \n",
      "Pyarrow will become a required dependency of pandas in the next major release of pandas (pandas 3.0),\n",
      "(to allow more performant data types, such as the Arrow string type, and better interoperability with other libraries)\n",
      "but was not found to be installed on your system.\n",
      "If this would cause problems for you,\n",
      "please provide us feedback at https://github.com/pandas-dev/pandas/issues/54466\n",
      "        \n",
      "  import pandas as pd\n"
     ]
    }
   ],
   "source": [
    "import pandas as pd\n",
    "import requests\n",
    "import os\n",
    "from dotenv import load_dotenv"
   ]
  },
  {
   "cell_type": "code",
   "execution_count": 4,
   "metadata": {},
   "outputs": [
    {
     "data": {
      "text/plain": [
       "True"
      ]
     },
     "execution_count": 4,
     "metadata": {},
     "output_type": "execute_result"
    }
   ],
   "source": [
    "env = \".env\"\n",
    "load_dotenv(env)"
   ]
  },
  {
   "cell_type": "code",
   "execution_count": 5,
   "metadata": {},
   "outputs": [],
   "source": [
    "API_KEY = os.getenv('CHATPDF_KEY')\n",
    "API_URL_UPLOAD = \"https://api.chatpdf.com/v1/sources/add-file\"\n",
    "API_URL_CHAT = \"https://api.chatpdf.com/v1/chats/message\""
   ]
  },
  {
   "cell_type": "code",
   "execution_count": 6,
   "metadata": {},
   "outputs": [],
   "source": [
    "def enviarPDF(arquivo):\n",
    "    files = [\n",
    "        ('file', ('file', open(arquivo, 'rb'), 'application/octet-stream'))\n",
    "    ]\n",
    "    headers = {\n",
    "        'x-api-key': API_KEY\n",
    "    }\n",
    "\n",
    "    response = requests.post(\n",
    "        API_URL_UPLOAD, headers=headers, files=files)\n",
    "\n",
    "    if response.status_code == 200:\n",
    "        SRC_ID = response.json()['sourceId']\n",
    "        # print('ARQUIVO ENVIADO COM SUCESSO!')\n",
    "        # print('SOURCE_ID:', SRC_ID)\n",
    "        return SRC_ID\n",
    "    else:\n",
    "        print('Status:', response.status_code)\n",
    "        print('Error:', response.text)"
   ]
  },
  {
   "cell_type": "code",
   "execution_count": 7,
   "metadata": {},
   "outputs": [],
   "source": [
    "def perguntar(pergunta1, src_id):\n",
    "    headers = {\n",
    "        'x-api-key': API_KEY,\n",
    "        \"Content-Type\": \"application/json\",\n",
    "    }\n",
    "\n",
    "    data = {\n",
    "        'sourceId': src_id,\n",
    "        'messages': [\n",
    "            {\n",
    "                'role': \"user\",\n",
    "                'content': pergunta1,\n",
    "            }\n",
    "        ]\n",
    "    }\n",
    "\n",
    "    response = requests.post(\n",
    "        API_URL_CHAT, headers=headers, json=data)\n",
    "\n",
    "    if response.status_code == 200:\n",
    "        RESPOSTA = response.json()['content']\n",
    "        # print('Result:', RESPOSTA)\n",
    "        return RESPOSTA\n",
    "    else:\n",
    "        print('Status:', response.status_code)\n",
    "        print('Error:', response.text)\n"
   ]
  },
  {
   "cell_type": "code",
   "execution_count": 10,
   "metadata": {},
   "outputs": [
    {
     "name": "stdout",
     "output_type": "stream",
     "text": [
      "Carne vermelha harmoniza bem com vinhos tintos encorpados, como Cabernet Sauvignon, Merlot ou Syrah. A estrutura e taninos desses vinhos complementam a riqueza da carne.\n"
     ]
    }
   ],
   "source": [
    "# upload_id = enviarPDF('./pdf/cursobasicodevinho.pdf')\n",
    "resposta = perguntar('responda como se fosse um sommelier de vinhos, seja breve e simples de se entender. O que hamoniza com carne vermelha?',  upload_id)\n",
    "print(resposta)"
   ]
  },
  {
   "cell_type": "code",
   "execution_count": null,
   "metadata": {},
   "outputs": [],
   "source": []
  }
 ],
 "metadata": {
  "kernelspec": {
   "display_name": "Python 3",
   "language": "python",
   "name": "python3"
  },
  "language_info": {
   "codemirror_mode": {
    "name": "ipython",
    "version": 3
   },
   "file_extension": ".py",
   "mimetype": "text/x-python",
   "name": "python",
   "nbconvert_exporter": "python",
   "pygments_lexer": "ipython3",
   "version": "3.11.4"
  }
 },
 "nbformat": 4,
 "nbformat_minor": 2
}
